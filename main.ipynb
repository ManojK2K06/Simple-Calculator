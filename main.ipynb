#Basic calculator
#Importing math library 
import math
#Importing tkinter to prepare GUI 
import tkinter as tk

# taking input 
window=tk.Tk()
entry1=tk.Entry(window,width=10) #Taking entry from using the Tkinter module's function of Entry
entry1.pack(pady=5) # This adds space around it 
entry2=tk.Entry(window,width=10)
entry2.pack(pady=5)

#Addition part 

def add():
    num1=float(entry1.get())
    num2=float(entry2.get())
    sum=num1+num2
    result_label.config(text="Result: "+str(sum))
add_button =tk.Button(window,text="+",command=add)
add_button.pack(pady=5)


#Subtraction part 

def sub():
    num1=float(entry1.get())
    num2=float(entry2.get())
    subs=num1-num2
    result_label.config(text="Result: "+str(subs))
add_button = tk.Button(window,text="-",command=sub)
add_button.pack(pady=5)

#Multiplication part

def multiply():
    num1=float(entry1.get())
    num2=float(entry2.get())
    mult=num1*num2
    result_label.config(text="Result: "+str(mult))
add_button = tk.Button(window,text="x",command=multiply)
add_button.pack(pady=5)


#Division part

def division():
    num1=float(entry1.get())
    num2=float(entry2.get())
    div=num1/num2
    result_label.config(text="Result: "+str(div))
add_button = tk.Button(window,text="/",command=division)
add_button.pack(pady=5)

#Square root of first number

def root():
    num1=float(entry1.get())
    r=math.sqrt(num1)
    result_label.config(text="Result: "+str(r))
add_button = tk.Button(window,text="√",command=root)
add_button.pack(pady=5)

#To the power of

def power():
    num1=float(entry1.get())
    num2=float(entry2.get())
    powah=num1**num2
    result_label.config(text="Result: "+str(powah))
add_button = tk.Button(window,text="x^y",command=power)
add_button.pack(pady=5)

#Printing the result

result_label = tk.Label(window,width=10,text="Result: ")
result_label.pack(pady=5)

window.mainloop()
